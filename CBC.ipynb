{
 "cells": [
  {
   "cell_type": "code",
   "execution_count": 1,
   "metadata": {},
   "outputs": [],
   "source": [
    "import numpy as np\n",
    "import math\n",
    "import matplotlib as mpl\n",
    "import random"
   ]
  },
  {
   "cell_type": "markdown",
   "metadata": {},
   "source": [
    "$$dr_t = \\alpha (\\theta_t - r_t)dt + \\sigma dw_t$$\n",
    "$$r_{t+1} = r_t + dr_{t}$$"
   ]
  },
  {
   "cell_type": "code",
   "execution_count": 2,
   "metadata": {},
   "outputs": [],
   "source": [
    "N = 10\n",
    "M = 10000\n",
    "alpha = 0.1\n",
    "sigma = 0.15\n",
    "corr = 0.1"
   ]
  },
  {
   "cell_type": "code",
   "execution_count": 3,
   "metadata": {},
   "outputs": [],
   "source": [
    "yld_UST = [0.0312, 0.0320, 0.0325, 0.0328, 0.0333, 0.0337, 0.0340, 0.0343, 0.0345, 0.0347]\n",
    "yld_TED = [0.0045, 0.0094, 0.0084, 0.0095, 0.0092, 0.0089, 0.0087, 0.0085, 0.0084, 0.0083]\n",
    "yld_LIB = yld_UST + yld_TED\n",
    "\n",
    "vol_UST = [0.15, 0.15, 0.15, 0.125, 0.125, 0.125, 0.125, 0.125, 0.125]\n",
    "vol_TED = [0.05, 0.05, 0.05, 0.05, 0.05, 0.05, 0.05, 0.05, 0.05]"
   ]
  },
  {
   "cell_type": "code",
   "execution_count": 5,
   "metadata": {},
   "outputs": [
    {
     "ename": "TypeError",
     "evalue": "can't multiply sequence by non-int of type 'float'",
     "output_type": "error",
     "traceback": [
      "\u001b[0;31m---------------------------------------------------------------------------\u001b[0m",
      "\u001b[0;31mTypeError\u001b[0m                                 Traceback (most recent call last)",
      "\u001b[0;32m<ipython-input-5-3bd4025eb897>\u001b[0m in \u001b[0;36m<module>\u001b[0;34m\u001b[0m\n\u001b[1;32m      4\u001b[0m \u001b[0;31m# create brownian motions\u001b[0m\u001b[0;34m\u001b[0m\u001b[0;34m\u001b[0m\u001b[0;34m\u001b[0m\u001b[0m\n\u001b[1;32m      5\u001b[0m \u001b[0mBM_UST\u001b[0m \u001b[0;34m=\u001b[0m \u001b[0;34m[\u001b[0m\u001b[0mnp\u001b[0m\u001b[0;34m.\u001b[0m\u001b[0mrandom\u001b[0m\u001b[0;34m.\u001b[0m\u001b[0mstandard_normal\u001b[0m\u001b[0;34m(\u001b[0m\u001b[0mN\u001b[0m\u001b[0;34m)\u001b[0m \u001b[0;32mfor\u001b[0m \u001b[0mi\u001b[0m \u001b[0;32min\u001b[0m \u001b[0mrange\u001b[0m\u001b[0;34m(\u001b[0m\u001b[0mM\u001b[0m\u001b[0;34m)\u001b[0m\u001b[0;34m]\u001b[0m\u001b[0;34m\u001b[0m\u001b[0;34m\u001b[0m\u001b[0m\n\u001b[0;32m----> 6\u001b[0;31m \u001b[0mBM_LIB\u001b[0m \u001b[0;34m=\u001b[0m \u001b[0mcorr\u001b[0m \u001b[0;34m*\u001b[0m \u001b[0mBM_UST\u001b[0m \u001b[0;34m+\u001b[0m \u001b[0msqrt\u001b[0m\u001b[0;34m(\u001b[0m\u001b[0;36m1\u001b[0m \u001b[0;34m-\u001b[0m \u001b[0mcorr\u001b[0m\u001b[0;34m**\u001b[0m\u001b[0;36m2\u001b[0m\u001b[0;34m)\u001b[0m \u001b[0;34m*\u001b[0m \u001b[0;34m[\u001b[0m\u001b[0mnp\u001b[0m\u001b[0;34m.\u001b[0m\u001b[0mrandom\u001b[0m\u001b[0;34m.\u001b[0m\u001b[0mstandard_normal\u001b[0m\u001b[0;34m(\u001b[0m\u001b[0mN\u001b[0m\u001b[0;34m)\u001b[0m \u001b[0;32mfor\u001b[0m \u001b[0mi\u001b[0m \u001b[0;32min\u001b[0m \u001b[0mrange\u001b[0m\u001b[0;34m(\u001b[0m\u001b[0mM\u001b[0m\u001b[0;34m)\u001b[0m\u001b[0;34m]\u001b[0m\u001b[0;34m\u001b[0m\u001b[0;34m\u001b[0m\u001b[0m\n\u001b[0m\u001b[1;32m      7\u001b[0m \u001b[0;34m\u001b[0m\u001b[0m\n\u001b[1;32m      8\u001b[0m \u001b[0;31m#\u001b[0m\u001b[0;34m\u001b[0m\u001b[0;34m\u001b[0m\u001b[0;34m\u001b[0m\u001b[0m\n",
      "\u001b[0;31mTypeError\u001b[0m: can't multiply sequence by non-int of type 'float'"
     ]
    }
   ],
   "source": [
    "# set seed\n",
    "random.seed(46977)\n",
    "\n",
    "# create brownian motions\n",
    "BM_UST = [np.random.standard_normal(N) for i in range(M)]\n",
    "BM_LIB = corr * BM_UST + sqrt(1 - corr**2) * [np.random.standard_normal(N) for i in range(M)]\n",
    "\n",
    "# "
   ]
  },
  {
   "cell_type": "code",
   "execution_count": null,
   "metadata": {},
   "outputs": [],
   "source": [
    "def sum_discount_factor(t, monte_carlo_paths, BM_paths):\n",
    "    result = 0\n",
    "    for i in range (M):\n",
    "        IR_path = monte_carlo_paths[i]\n",
    "        BM_path = BM_paths[i]\n",
    "        result += math.exp(-sum(IR_path[0:t]) - (2-alpha) * IR_path[t] + sigma * IR_path[t] * BM_path[t] )\n",
    "    return result"
   ]
  },
  {
   "cell_type": "code",
   "execution_count": null,
   "metadata": {},
   "outputs": [],
   "source": [
    "def monte_carlo(yield_curve, BM_paths):\n",
    "    thetas = np.zeros(N-1)\n",
    "    monte_carlo_paths = [np.zeros(N) for i in range(M)]\n",
    "    # spot rate(0,1) = yield(0,1)\n",
    "    for path in monte_carlo_paths:\n",
    "        path[0] = yield_curve[0]\n",
    "\n",
    "    for t in range(N-1):\n",
    "        thetas[t] = -1/alpha * ( math.log(M) - (t+2) * yield_curve[t+1] - math.log( sum_discount_factor( t, monte_carlo_paths, BM_paths ) ) )\n",
    "        for i in range (M):\n",
    "            IR_path = monte_carlo_paths[i]\n",
    "            BM_path = BM_paths[i]\n",
    "            IR_path[t+1] = IR_path[t] + alpha * ( thetas[t] - IR_path[t] ) + sigma * IR_path[t] * BM_path[t]\n",
    "            monte_carlo_paths[i] = IR_path\n",
    "    return (monte_carlo_paths, thetas)\n",
    "        "
   ]
  },
  {
   "cell_type": "code",
   "execution_count": null,
   "metadata": {},
   "outputs": [],
   "source": [
    "(monte_carlo_paths, thetas) = monte_carlo(yld_UST, BM_UST)\n",
    "print(monte_carlo_paths)\n",
    "print(thetas)"
   ]
  },
  {
   "cell_type": "code",
   "execution_count": null,
   "metadata": {},
   "outputs": [],
   "source": [
    "def sanity_check(monte_carlo_paths, yield_curve):\n",
    "    real_discount_factors = np.zeros(N)\n",
    "    learned_discount_factors = np.zeros(N)\n",
    "    diffs = np.zeros(N)\n",
    "    for t in range (N):\n",
    "        real_discount_factor = math.exp( -( t+1 ) * yield_curve[t] )\n",
    "        real_discount_factors[t] = real_discount_factor\n",
    "        path_discount_factors = np.zeros(M)\n",
    "        for i in range (M):\n",
    "            IR_path = monte_carlo_paths[i]\n",
    "            path_discount_factors[i] = math.exp(-sum(IR_path[0:t+1]))\n",
    "        learned_discount_factors[t] = np.mean(path_discount_factors)\n",
    "        diff = learned_discount_factors[t] - real_discount_factor\n",
    "        diffs[t] = diff\n",
    "    return ( real_discount_factors, learned_discount_factors, diffs )"
   ]
  },
  {
   "cell_type": "code",
   "execution_count": null,
   "metadata": {},
   "outputs": [],
   "source": [
    "( real_discount_factors, learned_discount_factors, diff ) = sanity_check( monte_carlo_paths, yld_UST )\n",
    "print( real_discount_factors )\n",
    "print( learned_discount_factors )\n",
    "print( diff )"
   ]
  }
 ],
 "metadata": {
  "kernelspec": {
   "display_name": "Python 3",
   "language": "python",
   "name": "python3"
  },
  "language_info": {
   "codemirror_mode": {
    "name": "ipython",
    "version": 3
   },
   "file_extension": ".py",
   "mimetype": "text/x-python",
   "name": "python",
   "nbconvert_exporter": "python",
   "pygments_lexer": "ipython3",
   "version": "3.8.3"
  }
 },
 "nbformat": 4,
 "nbformat_minor": 4
}
